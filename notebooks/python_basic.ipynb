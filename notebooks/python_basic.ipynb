{
 "cells": [
  {
   "cell_type": "markdown",
   "id": "8455daaa",
   "metadata": {},
   "source": [
    "### 🧠 Section 1: Python Refresher – Core Concepts\n"
   ]
  },
  {
   "cell_type": "code",
   "execution_count": null,
   "id": "9ea73c49",
   "metadata": {},
   "outputs": [],
   "source": [
    "# 📦 Variables & Data Types\n",
    "car = \"McLaren\"\n",
    "laps = 58\n",
    "avg_speed = 210.5\n",
    "pit_stopped = True\n",
    "\n",
    "print(f\"Car: {car}, Laps: {laps}, Avg Speed: {avg_speed} km/h, Pit Stop? {pit_stopped}\")\n",
    "\n",
    "# conditional statements\n",
    "# Loops\n"
   ]
  },
  {
   "cell_type": "code",
   "execution_count": 37,
   "id": "4142ffed",
   "metadata": {},
   "outputs": [
    {
     "name": "stdout",
     "output_type": "stream",
     "text": [
      "Teams: ['McLaren', 'Mercedes', 'Red Bull', 'Ferrari', 'Alpine']\n",
      "['MCLAREN', 'MERCEDES', 'RED BULL', 'FERRARI', 'ALPINE']\n"
     ]
    }
   ],
   "source": [
    "# 1.2 Data Structures\n",
    "\n",
    "# 🧾 List of F1 teams\n",
    "# Ordered, mutable collections\n",
    "teams = [\"McLaren\", \"Mercedes\", \"Red Bull\", \"Ferrari\", \"Alpine\"]\n",
    "print(\"Teams:\", teams)\n",
    "\n",
    "# list comprehensions\n",
    "## Concise way to transform or filter lists\n",
    "upper_teams = [team.upper() for team in teams]\n",
    "print(upper_teams)"
   ]
  },
  {
   "cell_type": "code",
   "execution_count": 24,
   "id": "8aecef4f",
   "metadata": {},
   "outputs": [
    {
     "name": "stdout",
     "output_type": "stream",
     "text": [
      "Tuple: 10\n"
     ]
    }
   ],
   "source": [
    "# tuples\n",
    "# Immutable sequences, often used for fixed values (like coordinates or paired data).\n",
    "\n",
    "point = (10, 20)\n",
    "print(\"Tuple:\",point[0]) \n",
    "\n",
    "# Use in ML for (feature, label) pairs:\n",
    "data = [(0.5, 1), (0.7, 0), (0.2, 1)]"
   ]
  },
  {
   "cell_type": "code",
   "execution_count": 35,
   "id": "a13881ec",
   "metadata": {},
   "outputs": [
    {
     "name": "stdout",
     "output_type": "stream",
     "text": [
      "Dictionary:  McLaren\n",
      "Nested Structure: 90\n"
     ]
    }
   ],
   "source": [
    "# Dictionaries\n",
    "# Key-value mappings — very common in ML for config, record storage, etc.\n",
    "\n",
    "# 🗂️ Dictionary mapping drivers to teams\n",
    "drivers = {\n",
    "    \"Norris\": \"McLaren\",\n",
    "    \"Hamilton\": \"Mercedes\",\n",
    "    \"Verstappen\": \"Red Bull\",\n",
    "    \"Leclerc\": \"Ferrari\"\n",
    "}\n",
    "print(\"Dictionary: \",drivers['Norris'])  # Accessing value by key\n",
    "\n",
    "# Can also store nested data:\n",
    "student = {\n",
    "    \"name\": \"Alice\",\n",
    "    \"scores\": {\"math\": 90, \"science\": 85}\n",
    "}\n",
    "print(\"Nested Structure:\" ,student[\"scores\"][\"math\"])\n"
   ]
  },
  {
   "cell_type": "code",
   "execution_count": 28,
   "id": "05c54fad",
   "metadata": {},
   "outputs": [
    {
     "name": "stdout",
     "output_type": "stream",
     "text": [
      "List of Dict [80, 95]\n",
      "Dict of Lists 87.5\n",
      "Mixed Nesting 0.91\n"
     ]
    }
   ],
   "source": [
    "# Nested & access patterns\n",
    "# You often deal with nested data (e.g., JSON, ML outputs, grouped stats).\n",
    "\n",
    "# List of Dicts\n",
    "dataset = [\n",
    "    {\"id\": 1, \"score\": 80},\n",
    "    {\"id\": 2, \"score\": 95}\n",
    "]\n",
    "\n",
    "# Get all scores\n",
    "scores = [row[\"score\"] for row in dataset]\n",
    "print(\"List of Dict\",scores)\n",
    "\n",
    "# Dict of Lists\n",
    "class_scores = {\n",
    "    \"Alice\": [85, 90],\n",
    "    \"Bob\": [70, 75]\n",
    "}\n",
    "\n",
    "# Average score for Alice\n",
    "avg = sum(class_scores[\"Alice\"]) / len(class_scores[\"Alice\"])\n",
    "print(\"Dict of Lists\",avg) \n",
    "\n",
    "# Mixed Nesting\n",
    "experiment = {\n",
    "    \"run1\": {\"accuracy\": 0.91, \"loss\": 0.2},\n",
    "    \"run2\": {\"accuracy\": 0.89, \"loss\": 0.3}\n",
    "}\n",
    "\n",
    "# Get best accuracy\n",
    "best = max([v[\"accuracy\"] for v in experiment.values()])\n",
    "print(\"Mixed Nesting\",best)"
   ]
  },
  {
   "cell_type": "code",
   "execution_count": 31,
   "id": "dfe27bdd",
   "metadata": {},
   "outputs": [
    {
     "name": "stdout",
     "output_type": "stream",
     "text": [
      "Sets: {0, 1}\n",
      "Label Exists: True\n"
     ]
    }
   ],
   "source": [
    "# sets\n",
    "# Unordered, unique collections — great for deduplication or fast membership testing.\n",
    "\n",
    "labels = [1, 0, 1, 0, 1]\n",
    "unique_labels = set(labels)\n",
    "print(\"Sets:\",unique_labels)  \n",
    "\n",
    "# Check if a label exists\n",
    "print(\"Label Exists:\",1 in unique_labels) "
   ]
  },
  {
   "cell_type": "code",
   "execution_count": 36,
   "id": "766f6110",
   "metadata": {},
   "outputs": [
    {
     "name": "stdout",
     "output_type": "stream",
     "text": [
      "Team: McLaren\n",
      "Team: Mercedes\n",
      "Team: Red Bull\n",
      "Team: Ferrari\n",
      "Team: Alpine\n",
      "Norris drives for McLaren\n",
      "Hamilton drives for Mercedes\n",
      "Verstappen drives for Red Bull\n",
      "Leclerc drives for Ferrari\n"
     ]
    }
   ],
   "source": [
    "\n",
    "# 🔁 Looping through a list\n",
    "for team in teams:\n",
    "    print(\"Team:\", team)\n",
    "\n",
    "# 🔁 Looping through dictionary\n",
    "for driver, team in drivers.items():\n",
    "    print(f\"{driver} drives for {team}\")"
   ]
  },
  {
   "cell_type": "code",
   "execution_count": 38,
   "id": "137ae61e",
   "metadata": {},
   "outputs": [
    {
     "name": "stdout",
     "output_type": "stream",
     "text": [
      "210 km/h is 130.49 mph\n",
      "Norris drives for McLaren at 210 km/h (130.49 mph).\n"
     ]
    }
   ],
   "source": [
    "# 🧠 Define a function to convert speed from km/h to mph\n",
    "def kmh_to_mph(speed_kmh):\n",
    "    return round(speed_kmh * 0.621371, 2)\n",
    "\n",
    "print(\"210 km/h is\", kmh_to_mph(210), \"mph\")\n",
    "\n",
    "\n",
    "# 🎯 Function to describe a driver\n",
    "def describe_driver(name, team, speed):\n",
    "    mph = kmh_to_mph(speed)\n",
    "    return f\"{name} drives for {team} at {speed} km/h ({mph} mph).\"\n",
    "\n",
    "print(describe_driver(\"Norris\", \"McLaren\", 210))\n"
   ]
  },
  {
   "cell_type": "markdown",
   "id": "95a439eb",
   "metadata": {},
   "source": [
    "### 📥 Section 2: Data Handling with Pandas"
   ]
  },
  {
   "cell_type": "markdown",
   "id": "fa443b5f",
   "metadata": {},
   "source": [
    "#### Load the Dataset"
   ]
  },
  {
   "cell_type": "code",
   "execution_count": null,
   "id": "aea3267b",
   "metadata": {},
   "outputs": [],
   "source": [
    "\n",
    "# Load required packages\n",
    "import pandas as pd\n",
    "\n",
    "# Load the dataset\n",
    "df = pd.read_csv(r\"C:\\Users\\p.muthusenapathy\\VSCode_Projects\\Python_Training\\datasets\\F1 data.csv\")\n",
    "# Use double backslashes or raw string for Windows file paths to avoid unicode errors\n",
    "# Preview the first few rows\n",
    "df.head()"
   ]
  },
  {
   "cell_type": "markdown",
   "id": "dfe15ae1",
   "metadata": {},
   "source": [
    "#### Inspect Data"
   ]
  },
  {
   "cell_type": "code",
   "execution_count": null,
   "id": "fcb50996",
   "metadata": {},
   "outputs": [],
   "source": [
    "# Basic info\n",
    "df.info()"
   ]
  },
  {
   "cell_type": "code",
   "execution_count": null,
   "id": "4ab1b60e",
   "metadata": {},
   "outputs": [],
   "source": [
    "# Summary statistics for numeric and non-numeric columns\n",
    "df.describe(include='all')"
   ]
  },
  {
   "cell_type": "code",
   "execution_count": null,
   "id": "872fe5ef",
   "metadata": {},
   "outputs": [],
   "source": [
    "# List all columns\n",
    "print(\"Columns:\", df.columns.tolist())"
   ]
  },
  {
   "cell_type": "markdown",
   "id": "d36d818f",
   "metadata": {},
   "source": [
    "#### Clean Missing Values"
   ]
  },
  {
   "cell_type": "code",
   "execution_count": null,
   "id": "37d21d1c",
   "metadata": {},
   "outputs": [],
   "source": [
    "# Count missing values\n",
    "missing = df.isnull().sum()\n",
    "print(\"Missing values:\\n\", missing)"
   ]
  },
  {
   "cell_type": "code",
   "execution_count": null,
   "id": "8f8eb202",
   "metadata": {},
   "outputs": [],
   "source": [
    "# Option 1: Drop rows with critical missing values\n",
    "df_cleaned = df.dropna(subset=[\"points\", \"milliseconds\"])\n",
    "\n",
    "# Option 2: Fill missing values for less important columns\n",
    "df_cleaned[\"fastestLapSpeed\"] = df_cleaned[\"fastestLapSpeed\"].fillna(df_cleaned[\"fastestLapSpeed\"].mean())"
   ]
  },
  {
   "cell_type": "markdown",
   "id": "36933fac",
   "metadata": {},
   "source": [
    "#### Group By Team or Driver"
   ]
  },
  {
   "cell_type": "code",
   "execution_count": null,
   "id": "bc491fdc",
   "metadata": {},
   "outputs": [],
   "source": [
    "# Average points per team\n",
    "team_avg_points = df_cleaned.groupby(\"Constructor name\")[\"points\"].mean().sort_values(ascending=False)\n",
    "print(\"Avg Points by Team:\\n\", team_avg_points)\n",
    "\n",
    "# Total laps per driver\n",
    "laps_per_driver = df_cleaned.groupby(\"Driver's surname\")[\"laps\"].sum().sort_values(ascending=False)\n",
    "print(\"Total Laps by Driver:\\n\", laps_per_driver)"
   ]
  },
  {
   "cell_type": "code",
   "execution_count": null,
   "id": "c96a4a90",
   "metadata": {},
   "outputs": [],
   "source": [
    "import matplotlib.pyplot as plt\n",
    "\n",
    "# Bar chart for average points\n",
    "team_avg_points.head(10).plot(kind=\"bar\", figsize=(10, 5), title=\"Top Teams by Avg Points\", ylabel=\"Points\")\n",
    "plt.grid(True)\n",
    "plt.show()"
   ]
  },
  {
   "cell_type": "markdown",
   "id": "362b8217",
   "metadata": {},
   "source": [
    "### 🧮 Section 3: Exploratory Data Analysis (EDA)"
   ]
  },
  {
   "cell_type": "markdown",
   "id": "09216a74",
   "metadata": {},
   "source": [
    "#### Calculate Descriptive Satistics"
   ]
  },
  {
   "cell_type": "code",
   "execution_count": null,
   "id": "89513b35",
   "metadata": {},
   "outputs": [
    {
     "data": {
      "text/plain": [
       "np.float64(1687141.5922702271)"
      ]
     },
     "execution_count": 57,
     "metadata": {},
     "output_type": "execute_result"
    }
   ],
   "source": [
    "df_cleaned.describe()"
   ]
  },
  {
   "cell_type": "code",
   "execution_count": 69,
   "id": "d1a21a35",
   "metadata": {},
   "outputs": [
    {
     "data": {
      "text/plain": [
       "np.float64(1687141.5922702274)"
      ]
     },
     "execution_count": 69,
     "metadata": {},
     "output_type": "execute_result"
    }
   ],
   "source": [
    "# Median lap time\n",
    "df_cleaned['milliseconds'].median()\n",
    "\n",
    "# Standard deviation of lap times\n",
    "df_cleaned['milliseconds'].std()"
   ]
  },
  {
   "cell_type": "markdown",
   "id": "7307e651",
   "metadata": {},
   "source": [
    "#### Visualize Distributions"
   ]
  },
  {
   "cell_type": "code",
   "execution_count": null,
   "id": "d8fab887",
   "metadata": {},
   "outputs": [],
   "source": [
    "### Histogram + KDE for Lap Times\n",
    "# Visualizing the distribution of lap times using a histogram with a kernel density estimate (KDE).\n",
    "\n",
    "\n",
    "import matplotlib.pyplot as plt\n",
    "import seaborn as sns\n",
    "\n",
    "plt.figure(figsize=(10, 6))\n",
    "sns.histplot(df_cleaned['milliseconds'].dropna(), bins=30, kde=True, color='skyblue')\n",
    "plt.title('Distribution of Lap Times')\n",
    "plt.xlabel('Lap Time (milliseconds)')\n",
    "plt.ylabel('Frequency')\n",
    "plt.grid(True)\n",
    "plt.show()"
   ]
  },
  {
   "cell_type": "code",
   "execution_count": null,
   "id": "1e69de0f",
   "metadata": {},
   "outputs": [],
   "source": [
    "### Boxplot for Team Comparison\n",
    "## Compare lap times across teams using a boxplot.\n",
    "#This shows median, interquartile range, and outliers per team.\n",
    "\n",
    "\n",
    "\n",
    "plt.figure(figsize=(12, 6))\n",
    "sns.boxplot(x='Constructor name', y='milliseconds', data=df_cleaned, palette='Set2')\n",
    "plt.xticks(rotation=45)\n",
    "plt.title('Lap Time Distribution by Team')\n",
    "plt.ylabel('Lap Time (ms)')\n",
    "plt.show()"
   ]
  },
  {
   "cell_type": "code",
   "execution_count": null,
   "id": "c236647b",
   "metadata": {},
   "outputs": [],
   "source": [
    "## Plot Lap Times Over Race Laps\n",
    "## This helps analyze performance consistency across the race.\n",
    "\n",
    "# Ensure lap is numeric\n",
    "df_cleaned['laps'] = pd.to_numeric(df_cleaned['laps'], errors='coerce')\n",
    "\n",
    "# Filter McLaren and Mercedes\n",
    "df_filtered = df_cleaned[df_cleaned['Constructor name'].isin(['McLaren', 'Mercedes'])]\n",
    "\n",
    "plt.figure(figsize=(14, 6))\n",
    "sns.lineplot(\n",
    "    data=df_filtered,\n",
    "    x='laps',\n",
    "    y='milliseconds',\n",
    "    hue='Constructor name',\n",
    "    estimator='mean',\n",
    "    ci=None,\n",
    "    palette='Set2'\n",
    ")\n",
    "plt.title('Average Lap Time per Lap: McLaren vs. Mercedes')\n",
    "plt.xlabel('Lap Number')\n",
    "plt.ylabel('Lap Time (ms)')\n",
    "plt.grid(True)\n",
    "plt.show()"
   ]
  },
  {
   "cell_type": "markdown",
   "id": "bdced0e3",
   "metadata": {},
   "source": [
    "### ⚙️ Section 4: Feature Engineering Basics"
   ]
  },
  {
   "cell_type": "markdown",
   "id": "c0be0c40",
   "metadata": {},
   "source": [
    "What is Feature Engineering?\n",
    "Feature Engineering is the process of creating, transforming, or selecting the right input variables (features) from raw data that help a machine learning model learn patterns effectively.\n",
    "\n",
    "Think of it as preparing your dataset to make it more meaningful and useful for predictions.\n",
    "\n",
    "✅ Good features → Better model accuracy\n",
    "✅ Simplifies complexity\n",
    "✅ Reduces noise\n",
    "✅ Highlights relationships"
   ]
  },
  {
   "cell_type": "code",
   "execution_count": null,
   "id": "f1d85905",
   "metadata": {},
   "outputs": [],
   "source": [
    "# 1. Create New Columns\n",
    "# Example: average_speed from milliseconds and lap distance\n",
    "# Assume each lap is ~5.8 km (you can change based on actual circuit data):\n",
    "\n",
    "# Avoid division by zero\n",
    "df_cleaned = df_cleaned[df_cleaned['milliseconds'] > 0]\n",
    "\n",
    "# Create new column: average speed (km/h)\n",
    "df_cleaned['avg_speed_kph'] = (5.8 / (df_cleaned['milliseconds'] / 1000)) * 3600\n",
    "df_cleaned[['laps', 'Constructor name', 'milliseconds', 'avg_speed_kph']].head()"
   ]
  },
  {
   "cell_type": "code",
   "execution_count": null,
   "id": "43bf8e0f",
   "metadata": {},
   "outputs": [],
   "source": [
    "# 2. Encode Categorical Variables\n",
    "# 2.1 One-Hot Encode Constructor name (for ML models)\n",
    "df_encoded = pd.get_dummies(df_cleaned, columns=['Constructor name'], prefix='team')\n",
    "df_encoded.head()"
   ]
  },
  {
   "cell_type": "code",
   "execution_count": null,
   "id": "08b530e6",
   "metadata": {},
   "outputs": [],
   "source": [
    "# 2.2 Label Encode Constructor Names (optional)\n",
    "\n",
    "from sklearn.preprocessing import LabelEncoder\n",
    "\n",
    "le = LabelEncoder()\n",
    "df['Constructor_encoded'] = le.fit_transform(df['Constructor name'].astype(str))\n",
    "df[['Constructor name', 'Constructor_encoded']].drop_duplicates().head()"
   ]
  },
  {
   "cell_type": "code",
   "execution_count": null,
   "id": "306897ac",
   "metadata": {},
   "outputs": [],
   "source": [
    "# 3. Handle Missing Values\n",
    "\n",
    "# Check missing values\n",
    "df.isnull().sum()\n",
    "\n",
    "# Fill numeric columns with median\n",
    "df['milliseconds'] = df['milliseconds'].fillna(df['milliseconds'].median())\n",
    "df['avg_speed_kph'] = df_cleaned['avg_speed_kph'].fillna(df_cleaned['avg_speed_kph'].median())\n",
    "\n",
    "# For advanced use cases: you can use KNN imputation or domain-specific logic."
   ]
  },
  {
   "cell_type": "code",
   "execution_count": null,
   "id": "416b4b9a",
   "metadata": {},
   "outputs": [],
   "source": [
    "# 4. Scale Numeric Features\n",
    "# Use MinMaxScaler or StandardScaler.\n",
    "\n",
    "from sklearn.preprocessing import StandardScaler\n",
    "\n",
    "scaler = StandardScaler()\n",
    "df[['milliseconds_scaled', 'avg_speed_scaled']] = scaler.fit_transform(df[['milliseconds', 'avg_speed_kph']])\n",
    "df[['milliseconds', 'milliseconds_scaled', 'avg_speed_kph', 'avg_speed_scaled']].head()"
   ]
  },
  {
   "cell_type": "code",
   "execution_count": null,
   "id": "b1757592",
   "metadata": {},
   "outputs": [],
   "source": [
    "# 5. Feature Correlation\n",
    "import seaborn as sns\n",
    "import matplotlib.pyplot as plt\n",
    "\n",
    "plt.figure(figsize=(10, 6))\n",
    "sns.heatmap(df[['milliseconds', 'avg_speed_kph', 'points']].corr(), annot=True, cmap='coolwarm')\n",
    "plt.title('Feature Correlation Matrix')\n",
    "plt.show()"
   ]
  }
 ],
 "metadata": {
  "kernelspec": {
   "display_name": "venv",
   "language": "python",
   "name": "python3"
  },
  "language_info": {
   "codemirror_mode": {
    "name": "ipython",
    "version": 3
   },
   "file_extension": ".py",
   "mimetype": "text/x-python",
   "name": "python",
   "nbconvert_exporter": "python",
   "pygments_lexer": "ipython3",
   "version": "3.12.0"
  }
 },
 "nbformat": 4,
 "nbformat_minor": 5
}
