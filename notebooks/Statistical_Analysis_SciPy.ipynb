{
 "cells": [
  {
   "cell_type": "markdown",
   "id": "b06c1a4f",
   "metadata": {},
   "source": [
    "### Topic: Statistical Analysis with SciPy"
   ]
  },
  {
   "cell_type": "markdown",
   "id": "ff0adf51",
   "metadata": {},
   "source": [
    "Objective: Learn how to apply statistics to racing data to answer meaningful performance questions using SciPy."
   ]
  },
  {
   "cell_type": "code",
   "execution_count": null,
   "id": "aacfa54c",
   "metadata": {},
   "outputs": [],
   "source": [
    "# Statistical Analysis with SciPy: F1 Race Data\n",
    "\n",
    "import pandas as pd\n",
    "import seaborn as sns\n",
    "import matplotlib.pyplot as plt\n",
    "from scipy.stats import pearsonr, linregress, ttest_ind\n",
    "\n",
    "# Load the dataset\n",
    "df = pd.read_csv(r\"C:\\Users\\p.muthusenapathy\\VSCode_Projects\\Python_Training\\datasets\\F1 data.csv\")\n",
    "\n",
    "\n",
    "# 1. Correlation Analysis: Tire Type vs Lap Time\n",
    "# ----------------------------------------------\n",
    "df['tire_type_encoded'] = df['tire_type'].map({'Soft': 0, 'Medium': 1, 'Hard': 2})\n",
    "df_corr = df.dropna(subset=['tire_type_encoded', 'lap_time'])\n",
    "\n",
    "corr, p_corr = pearsonr(df_corr['tire_type_encoded'], df_corr['lap_time'])\n",
    "print(\"\\n--- Correlation between Tire Type and Lap Time ---\")\n",
    "print(f\"Pearson Correlation: {corr:.2f}, P-Value: {p_corr:.4f}\")\n",
    "\n",
    "# 2. Regression Analysis: Track Temp vs Lap Time\n",
    "# -----------------------------------------------\n",
    "df_reg = df.dropna(subset=['track_temp', 'lap_time'])\n",
    "slope, intercept, r_val, p_reg, std_err = linregress(df_reg['track_temp'], df_reg['lap_time'])\n",
    "\n",
    "print(\"\\n--- Regression: Track Temperature vs Lap Time ---\")\n",
    "print(f\"Lap Time = {slope:.2f} * Track Temp + {intercept:.2f}\")\n",
    "print(f\"R-squared: {r_val**2:.2f}, P-Value: {p_reg:.4f}\")\n",
    "\n",
    "# 3. Hypothesis Testing: Are McLaren Pit Stops Slower?\n",
    "# -----------------------------------------------------\n",
    "mclaren_pit = df[df['team'] == 'McLaren']['pit_stop_time'].dropna()\n",
    "other_pit = df[df['team'] != 'McLaren']['pit_stop_time'].dropna()\n",
    "\n",
    "t_stat, p_val = ttest_ind(mclaren_pit, other_pit, equal_var=False)\n",
    "\n",
    "print(\"\\n--- Hypothesis Test: McLaren vs Other Teams (Pit Stop Time) ---\")\n",
    "print(f\"T-statistic: {t_stat:.2f}, P-value: {p_val:.4f}\")\n",
    "if p_val < 0.05:\n",
    "    print(\"Conclusion: Significant difference in pit stop times.\")\n",
    "else:\n",
    "    print(\"Conclusion: No significant difference in pit stop times.\")\n",
    "\n",
    "# 4. Visualization\n",
    "# -----------------\n",
    "sns.boxplot(x='team', y='pit_stop_time', data=df[df['team'].isin(['McLaren', 'Mercedes'])])\n",
    "plt.title(\"Pit Stop Time Comparison: McLaren vs Mercedes\")\n",
    "plt.xticks(rotation=45)\n",
    "plt.show()\n"
   ]
  }
 ],
 "metadata": {
  "language_info": {
   "name": "python"
  }
 },
 "nbformat": 4,
 "nbformat_minor": 5
}
