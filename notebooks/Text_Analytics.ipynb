{
 "cells": [
  {
   "cell_type": "markdown",
   "id": "1a9936da",
   "metadata": {},
   "source": [
    "### 🗣️  Introduction to NLP in the Racing Context\n",
    "\n",
    "- Analyzing this text with Natural Language Processing (NLP) can help uncover sentiment, emotional tone, or strategic insights that correlate with performance outcomes (like lap time drops, pit stop decisions, or DNFs)"
   ]
  },
  {
   "cell_type": "markdown",
   "id": "542da36a",
   "metadata": {},
   "source": [
    "#### ✅ 1. Preprocessing Text with NLTK or SpaCy"
   ]
  },
  {
   "cell_type": "code",
   "execution_count": 1,
   "id": "5047b028",
   "metadata": {},
   "outputs": [],
   "source": [
    "driver_comment = \"The car felt amazing today, grip levels were perfect in Sector 3!\""
   ]
  },
  {
   "cell_type": "code",
   "execution_count": null,
   "id": "8145d346",
   "metadata": {},
   "outputs": [],
   "source": [
    "! pip install spacy\n",
    "! python -m spacy download en_core_web_sm"
   ]
  },
  {
   "cell_type": "markdown",
   "id": "dee7853a",
   "metadata": {},
   "source": [
    "⚙️ Preprocessing with SpaCy"
   ]
  },
  {
   "cell_type": "code",
   "execution_count": 9,
   "id": "9342236b",
   "metadata": {},
   "outputs": [
    {
     "name": "stdout",
     "output_type": "stream",
     "text": [
      "['car', 'feel', 'amazing', 'today', 'grip', 'level', 'perfect', 'Sector', '3']\n"
     ]
    }
   ],
   "source": [
    "import spacy\n",
    "nlp = spacy.load(\"en_core_web_sm\")  # Make sure it's installed: `python -m spacy download en_core_web_sm`\n",
    "\n",
    "doc = nlp(driver_comment)\n",
    "filtered = [token.lemma_ for token in doc if not token.is_stop and not token.is_punct]\n",
    "print(filtered)\n"
   ]
  },
  {
   "cell_type": "markdown",
   "id": "4ec3ccbe",
   "metadata": {},
   "source": [
    "✅ Why preprocess?\n",
    "Cleans text for consistent and meaningful analysis (especially before sentiment or classification)."
   ]
  },
  {
   "cell_type": "markdown",
   "id": "1013fa11",
   "metadata": {},
   "source": [
    "#### 2. Running Sentiment Analysis with TextBlob"
   ]
  },
  {
   "cell_type": "markdown",
   "id": "bfb633d1",
   "metadata": {},
   "source": [
    "TextBlob is a simple but effective NLP tool for quick sentiment analysis."
   ]
  },
  {
   "cell_type": "code",
   "execution_count": 10,
   "id": "d02d486c",
   "metadata": {},
   "outputs": [
    {
     "name": "stdout",
     "output_type": "stream",
     "text": [
      "Sentiment polarity: 0.0\n",
      "Sentiment subjectivity: 0.0\n"
     ]
    }
   ],
   "source": [
    "from textblob import TextBlob\n",
    "\n",
    "comment = \"The strategy today was a disaster. I had no grip at all!\"\n",
    "\n",
    "blob = TextBlob(comment)\n",
    "print(\"Sentiment polarity:\", blob.sentiment.polarity)  # -1 to +1\n",
    "print(\"Sentiment subjectivity:\", blob.sentiment.subjectivity)  # 0 to 1\n"
   ]
  },
  {
   "cell_type": "markdown",
   "id": "11f54bbe",
   "metadata": {},
   "source": [
    "#### 3. Linking Sentiment Trends to Race Outcomes"
   ]
  },
  {
   "cell_type": "markdown",
   "id": "2dd7a41f",
   "metadata": {},
   "source": [
    "If you have multiple comments per race or per driver, you can:\n",
    "\n"
   ]
  },
  {
   "cell_type": "code",
   "execution_count": 18,
   "id": "7666059d",
   "metadata": {},
   "outputs": [
    {
     "name": "stdout",
     "output_type": "stream",
     "text": [
      "                   sentiment  milliseconds\n",
      "Driver's forename                         \n",
      "Anthony            -0.006481  9.889645e+06\n",
      "Felipe             -0.000795  5.852220e+06\n",
      "Willi               0.000000           NaN\n",
      "StÃ©phane           0.000000           NaN\n",
      "Syd                 0.000000           NaN\n",
      "...                      ...           ...\n",
      "Heikki              0.001091  5.855633e+06\n",
      "Robert              0.001684  5.946452e+06\n",
      "Kimi                0.002557  5.659059e+06\n",
      "Jenson              0.002589  5.844176e+06\n",
      "Lewis               0.002778  5.821132e+06\n",
      "\n",
      "[473 rows x 2 columns]\n"
     ]
    }
   ],
   "source": [
    "# Load required packages\n",
    "import pandas as pd\n",
    "\n",
    "# Load the dataset\n",
    "df = pd.read_csv(r\"C:\\Users\\p.muthusenapathy\\VSCode_Projects\\Python_Training\\datasets\\F1 data.csv\")\n",
    "# Use double backslashes or raw string for Windows file paths to avoid unicode errors\n",
    "\n",
    "# Add sentiment scores to the data:\n",
    "# Add sentiment scores to the data, handling NaN values:\n",
    "df['sentiment'] = df['Driver_Comments'].apply(lambda x: TextBlob(x if isinstance(x, str) else \"\").sentiment.polarity)\n",
    "\n",
    "#Group and Analyze:\n",
    "# Compare average sentiment with average lap time\n",
    "sentiment_vs_lap = df.groupby(\"Driver's forename\")[['sentiment', 'milliseconds']].mean()\n",
    "print(sentiment_vs_lap.sort_values('sentiment'))\n"
   ]
  },
  {
   "cell_type": "code",
   "execution_count": null,
   "id": "9edbff00",
   "metadata": {},
   "outputs": [
    {
     "data": {
      "image/png": "[encoded data removed]",
      "text/plain": [
       "<Figure size 640x480 with 1 Axes>"
      ]
     },
     "metadata": {},
     "output_type": "display_data"
    }
   ],
   "source": [
    "#Plotting the results\n",
    "import seaborn as sns\n",
    "import matplotlib.pyplot as plt\n",
    "\n",
    "sns.scatterplot(data=sentiment_vs_lap, x='sentiment', y='milliseconds')\n",
    "plt.title(\"Do positive driver comments lead to better lap times?\")\n",
    "plt.show()"
   ]
  }
 ],
 "metadata": {
  "kernelspec": {
   "display_name": "venv",
   "language": "python",
   "name": "python3"
  },
  "language_info": {
   "codemirror_mode": {
    "name": "ipython",
    "version": 3
   },
   "file_extension": ".py",
   "mimetype": "text/x-python",
   "name": "python",
   "nbconvert_exporter": "python",
   "pygments_lexer": "ipython3",
   "version": "3.12.0"
  }
 },
 "nbformat": 4,
 "nbformat_minor": 5
}
